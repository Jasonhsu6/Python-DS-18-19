{
 "cells": [
  {
   "cell_type": "markdown",
   "metadata": {},
   "source": [
    "## Logistic Regression"
   ]
  },
  {
   "cell_type": "code",
   "execution_count": 1,
   "metadata": {},
   "outputs": [],
   "source": [
    "import nltk\n",
    "import numpy as np\n",
    "import pandas as pd\n",
    "from sklearn.naive_bayes import MultinomialNB\n",
    "from sklearn.feature_extraction.text import CountVectorizer\n",
    "from sklearn.metrics import confusion_matrix, accuracy_score, classification_report"
   ]
  },
  {
   "cell_type": "code",
   "execution_count": 2,
   "metadata": {},
   "outputs": [
    {
     "name": "stdout",
     "output_type": "stream",
     "text": [
      "number of training news: 11293\n",
      "number of test news: 7528\n"
     ]
    }
   ],
   "source": [
    "with open('20ng-train-all-terms.txt') as f:\n",
    "    train = f.read()\n",
    "with open('20ng-test-all-terms.txt') as f:\n",
    "    test = f.read()\n",
    "\n",
    "train = train[:-1]\n",
    "test = test[:-1]\n",
    "topic_train = []\n",
    "topic_test = []\n",
    "news_train = []\n",
    "news_test = []\n",
    "for new in train.split('\\n'):\n",
    "    topic_train.append(new.split('\\t')[0])\n",
    "    news_train.append(new.split('\\t')[1])\n",
    "print('number of training news: ' + str(len(news_train)))\n",
    "for new in test.split('\\n'):\n",
    "    topic_test.append(new.split('\\t')[0])\n",
    "    news_test.append(new.split('\\t')[1])\n",
    "print('number of test news: ' + str(len(news_test)))"
   ]
  },
  {
   "cell_type": "code",
   "execution_count": 3,
   "metadata": {},
   "outputs": [],
   "source": [
    "# topic_map = {'alt.atheism' : 0,\n",
    "#     'comp.graphics': 1,\n",
    "#     'comp.os.ms-windows.misc': 2,\n",
    "#     'comp.sys.ibm.pc.hardware': 3,\n",
    "#     'comp.sys.mac.hardware': 4,\n",
    "#     'comp.windows.x': 5,\n",
    "#     'misc.forsale': 6,\n",
    "#     'rec.autos': 7,\n",
    "#     'rec.motorcycles': 8,\n",
    "#     'rec.sport.baseball': 9,\n",
    "#     'rec.sport.hockey': 10,\n",
    "#     'sci.crypt': 11,\n",
    "#     'sci.electronics': 12,\n",
    "#     'sci.med': 13,\n",
    "#     'sci.space': 14,\n",
    "#     'soc.religion.christian': 15,\n",
    "#     'talk.politics.guns': 16,\n",
    "#     'talk.politics.mideast': 17,\n",
    "#     'talk.politics.misc': 18,\n",
    "#     'talk.religion.misc': 19}"
   ]
  },
  {
   "cell_type": "code",
   "execution_count": null,
   "metadata": {},
   "outputs": [],
   "source": [
    "topic_map = {'alt.atheism' : 0,\n",
    "    'comp.graphics': 1,\n",
    "    'comp.os.ms-windows.misc': 2,\n",
    "    'comp.sys.ibm.pc.hardware': 3,\n",
    "    'comp.sys.mac.hardware': 4,\n",
    "    'comp.windows.x': 5,\n",
    "    'misc.forsale': 6,\n",
    "    'rec.autos': 7,\n",
    "    'rec.motorcycles': 8,\n",
    "    'rec.sport.baseball': 9,\n",
    "    'rec.sport.hockey': 10,\n",
    "    'sci.crypt': 11,\n",
    "    'sci.electronics': 12,\n",
    "    'sci.med': 13,\n",
    "    'sci.space': 14,\n",
    "    'soc.religion.christian': 15,\n",
    "    'talk.politics.guns': 16,\n",
    "    'talk.politics.mideast': 17,\n",
    "    'talk.politics.misc': 18,\n",
    "    'talk.religion.misc': 19}"
   ]
  },
  {
   "cell_type": "code",
   "execution_count": 4,
   "metadata": {},
   "outputs": [
    {
     "data": {
      "text/html": [
       "<div>\n",
       "<style scoped>\n",
       "    .dataframe tbody tr th:only-of-type {\n",
       "        vertical-align: middle;\n",
       "    }\n",
       "\n",
       "    .dataframe tbody tr th {\n",
       "        vertical-align: top;\n",
       "    }\n",
       "\n",
       "    .dataframe thead th {\n",
       "        text-align: right;\n",
       "    }\n",
       "</style>\n",
       "<table border=\"1\" class=\"dataframe\">\n",
       "  <thead>\n",
       "    <tr style=\"text-align: right;\">\n",
       "      <th></th>\n",
       "      <th>news</th>\n",
       "      <th>target</th>\n",
       "    </tr>\n",
       "  </thead>\n",
       "  <tbody>\n",
       "    <tr>\n",
       "      <th>0</th>\n",
       "      <td>re how to get there was re comet in temporary ...</td>\n",
       "      <td>14</td>\n",
       "    </tr>\n",
       "    <tr>\n",
       "      <th>1</th>\n",
       "      <td>re tiff philosophical significance of in artic...</td>\n",
       "      <td>1</td>\n",
       "    </tr>\n",
       "    <tr>\n",
       "      <th>2</th>\n",
       "      <td>jewish committee on the middle east jcome i fl...</td>\n",
       "      <td>17</td>\n",
       "    </tr>\n",
       "    <tr>\n",
       "      <th>3</th>\n",
       "      <td>baseball card for sale i have a roberto clemen...</td>\n",
       "      <td>6</td>\n",
       "    </tr>\n",
       "    <tr>\n",
       "      <th>4</th>\n",
       "      <td>re doing the work of god desiree bradley desir...</td>\n",
       "      <td>15</td>\n",
       "    </tr>\n",
       "  </tbody>\n",
       "</table>\n",
       "</div>"
      ],
      "text/plain": [
       "                                                news  target\n",
       "0  re how to get there was re comet in temporary ...      14\n",
       "1  re tiff philosophical significance of in artic...       1\n",
       "2  jewish committee on the middle east jcome i fl...      17\n",
       "3  baseball card for sale i have a roberto clemen...       6\n",
       "4  re doing the work of god desiree bradley desir...      15"
      ]
     },
     "execution_count": 4,
     "metadata": {},
     "output_type": "execute_result"
    }
   ],
   "source": [
    "df_train = pd.DataFrame(np.array(news_train), columns = ['news'])\n",
    "df_train['target'] = pd.DataFrame(np.array(topic_train), columns = ['topic'])\n",
    "df_train = df_train.reindex(np.random.permutation(df_train.index)).reset_index(drop = True)\n",
    "df_train['target'] = df_train['target'].replace(topic_map)\n",
    "df_train.head()"
   ]
  },
  {
   "cell_type": "code",
   "execution_count": 5,
   "metadata": {},
   "outputs": [
    {
     "data": {
      "text/html": [
       "<div>\n",
       "<style scoped>\n",
       "    .dataframe tbody tr th:only-of-type {\n",
       "        vertical-align: middle;\n",
       "    }\n",
       "\n",
       "    .dataframe tbody tr th {\n",
       "        vertical-align: top;\n",
       "    }\n",
       "\n",
       "    .dataframe thead th {\n",
       "        text-align: right;\n",
       "    }\n",
       "</style>\n",
       "<table border=\"1\" class=\"dataframe\">\n",
       "  <thead>\n",
       "    <tr style=\"text-align: right;\">\n",
       "      <th></th>\n",
       "      <th>news</th>\n",
       "      <th>target</th>\n",
       "    </tr>\n",
       "  </thead>\n",
       "  <tbody>\n",
       "    <tr>\n",
       "      <th>0</th>\n",
       "      <td>re happy birthday israel in article c da me bo...</td>\n",
       "      <td>17</td>\n",
       "    </tr>\n",
       "    <tr>\n",
       "      <th>1</th>\n",
       "      <td>traveling fatima was re consecration and anniv...</td>\n",
       "      <td>15</td>\n",
       "    </tr>\n",
       "    <tr>\n",
       "      <th>2</th>\n",
       "      <td>re zionist leaders frank statements dear pete ...</td>\n",
       "      <td>17</td>\n",
       "    </tr>\n",
       "    <tr>\n",
       "      <th>3</th>\n",
       "      <td>re pens fans reactions richard j coyle gomer p...</td>\n",
       "      <td>10</td>\n",
       "    </tr>\n",
       "    <tr>\n",
       "      <th>4</th>\n",
       "      <td>sale calculator sharp brand pocket computer mo...</td>\n",
       "      <td>6</td>\n",
       "    </tr>\n",
       "  </tbody>\n",
       "</table>\n",
       "</div>"
      ],
      "text/plain": [
       "                                                news  target\n",
       "0  re happy birthday israel in article c da me bo...      17\n",
       "1  traveling fatima was re consecration and anniv...      15\n",
       "2  re zionist leaders frank statements dear pete ...      17\n",
       "3  re pens fans reactions richard j coyle gomer p...      10\n",
       "4  sale calculator sharp brand pocket computer mo...       6"
      ]
     },
     "execution_count": 5,
     "metadata": {},
     "output_type": "execute_result"
    }
   ],
   "source": [
    "df_test = pd.DataFrame(np.array(news_test), columns = ['news'])\n",
    "df_test['target'] = pd.DataFrame(np.array(topic_test), columns = ['topic'])\n",
    "df_test = df_test.reindex(np.random.permutation(df_test.index)).reset_index(drop = True)\n",
    "df_test['target'] = df_test['target'].replace(topic_map)\n",
    "df_test.head()"
   ]
  },
  {
   "cell_type": "code",
   "execution_count": 6,
   "metadata": {},
   "outputs": [],
   "source": [
    "X_train, y_train = df_train['news'], df_train['target']\n",
    "X_test, y_test = df_test['news'], df_test['target']"
   ]
  },
  {
   "cell_type": "code",
   "execution_count": 7,
   "metadata": {},
   "outputs": [
    {
     "name": "stdout",
     "output_type": "stream",
     "text": [
      "Wall time: 4.07 s\n"
     ]
    }
   ],
   "source": [
    "%%time\n",
    "# use CountVectorizer to find three letter tokens, remove stop_words,\n",
    "# remove tokens that don't appear in at least 20 documents,\n",
    "# remove tokens that appear in more than 20% of the documents\n",
    "vect = CountVectorizer(min_df = 20, max_df = 0.2, stop_words = 'english', token_pattern = '(?u)\\\\b\\\\w\\\\w\\\\w+\\\\b')\n",
    "vect.fit(X_train)\n",
    "X_train_vectorized = vect.transform(X_train)\n",
    "X_test_vectorized = vect.transform(X_test)\n",
    "clfNB = MultinomialNB(alpha = 1.0).fit(X_train_vectorized, y_train)\n"
   ]
  },
  {
   "cell_type": "code",
   "execution_count": 8,
   "metadata": {},
   "outputs": [
    {
     "data": {
      "text/plain": [
       "array([[226,   2,   0,   0,   1,   0,   0,   2,   0,   3,   2,   0,   1,\n",
       "         11,   3,  16,   0,  21,   6,  37],\n",
       "       [  2, 283,  31,   8,  10,  59,   2,   1,   0,   2,   0,   7,  21,\n",
       "          7,  15,   1,   1,   1,   1,   4],\n",
       "       [  0,  25, 289,  33,  21,  31,   2,   2,   0,   0,   0,   6,  19,\n",
       "          1,   0,   3,   1,   0,   0,   0],\n",
       "       [  0,  12,  31, 261,  33,   2,  27,   0,   1,   0,   0,   0,  24,\n",
       "          3,   0,   0,   0,   0,   0,   0],\n",
       "       [  0,  18,  10,  49, 289,   6,  11,   1,   0,   1,   0,   5,  23,\n",
       "          4,   1,   0,   0,   1,   0,   0],\n",
       "       [  0,  21,  11,   2,   0, 271,   0,   1,   0,   1,   0,   1,   0,\n",
       "          1,   2,   1,   1,   0,   0,   0],\n",
       "       [  1,   4,   2,   8,   6,   7, 321,   9,   3,   6,   0,   1,  14,\n",
       "          2,   1,   3,   1,   1,   1,   0],\n",
       "       [  0,   0,   0,   3,   3,   1,  10, 351,  15,   1,   0,   2,   6,\n",
       "         10,   4,   0,   2,   0,   1,   1],\n",
       "       [  7,   0,   0,   0,   1,   2,   5,  11, 369,   4,   0,   0,   7,\n",
       "          5,   0,   2,   2,   1,   1,   0],\n",
       "       [  1,   0,   2,   2,   2,   1,   0,   1,   1, 359,   7,   0,   1,\n",
       "          0,   2,   1,   0,   3,   0,   0],\n",
       "       [  1,   0,   3,   0,   0,   3,   1,   1,   0,  14, 384,   0,   0,\n",
       "          0,   1,   0,   0,   0,   0,   0],\n",
       "       [  1,   7,   0,   2,   1,   2,   0,   1,   0,   0,   0, 354,  10,\n",
       "          0,   1,   0,   4,   3,   3,   0],\n",
       "       [  1,   2,   1,  23,  12,   0,   7,   6,   3,   0,   1,   6, 256,\n",
       "          8,   5,   2,   0,   0,   0,   0],\n",
       "       [  4,   4,   1,   0,   2,   0,   2,   1,   3,   1,   2,   1,   6,\n",
       "        321,   4,   1,   1,   0,   5,   2],\n",
       "       [  1,   7,   4,   1,   3,   4,   1,   3,   1,   0,   1,   0,   3,\n",
       "          2, 337,   2,   2,   0,   8,   4],\n",
       "       [ 29,   2,   0,   0,   0,   0,   0,   0,   0,   1,   1,   0,   0,\n",
       "          4,   1, 343,   1,   3,   0,  52],\n",
       "       [  4,   0,   0,   0,   0,   1,   0,   0,   1,   2,   0,   6,   0,\n",
       "          6,   0,   1, 328,   3, 103,  18],\n",
       "       [  5,   0,   0,   0,   0,   0,   0,   0,   0,   1,   0,   0,   0,\n",
       "          2,   1,   0,   2, 314,   3,   3],\n",
       "       [  4,   0,   3,   0,   0,   2,   1,   3,   1,   1,   0,   6,   1,\n",
       "          6,  13,   1,   9,  21, 172,   5],\n",
       "       [ 32,   2,   6,   0,   1,   0,   0,   1,   0,   0,   1,   1,   1,\n",
       "          3,   3,  21,   9,   4,   6, 125]], dtype=int64)"
      ]
     },
     "execution_count": 8,
     "metadata": {},
     "output_type": "execute_result"
    }
   ],
   "source": [
    "y_predict = clfNB.predict(X_test_vectorized)\n",
    "confusion_matrix(y_predict, y_test)"
   ]
  },
  {
   "cell_type": "code",
   "execution_count": 9,
   "metadata": {},
   "outputs": [
    {
     "name": "stdout",
     "output_type": "stream",
     "text": [
      "accuracy is 0.7907810839532412\n"
     ]
    }
   ],
   "source": [
    "print('accuracy is ' + str(accuracy_score(y_predict, y_test)))"
   ]
  },
  {
   "cell_type": "code",
   "execution_count": 10,
   "metadata": {},
   "outputs": [
    {
     "name": "stdout",
     "output_type": "stream",
     "text": [
      "             precision    recall  f1-score   support\n",
      "\n",
      "          0       0.71      0.68      0.70       331\n",
      "          1       0.73      0.62      0.67       456\n",
      "          2       0.73      0.67      0.70       433\n",
      "          3       0.67      0.66      0.66       394\n",
      "          4       0.75      0.69      0.72       419\n",
      "          5       0.69      0.87      0.77       313\n",
      "          6       0.82      0.82      0.82       391\n",
      "          7       0.89      0.86      0.87       410\n",
      "          8       0.93      0.88      0.91       417\n",
      "          9       0.90      0.94      0.92       383\n",
      "         10       0.96      0.94      0.95       408\n",
      "         11       0.89      0.91      0.90       389\n",
      "         12       0.65      0.77      0.71       333\n",
      "         13       0.81      0.89      0.85       361\n",
      "         14       0.86      0.88      0.87       384\n",
      "         15       0.86      0.78      0.82       437\n",
      "         16       0.90      0.69      0.78       473\n",
      "         17       0.84      0.95      0.89       331\n",
      "         18       0.55      0.69      0.62       249\n",
      "         19       0.50      0.58      0.54       216\n",
      "\n",
      "avg / total       0.80      0.79      0.79      7528\n",
      "\n"
     ]
    }
   ],
   "source": [
    "print(classification_report(y_predict, y_test))"
   ]
  },
  {
   "cell_type": "code",
   "execution_count": null,
   "metadata": {},
   "outputs": [],
   "source": []
  }
 ],
 "metadata": {
  "kernelspec": {
   "display_name": "Python 3",
   "language": "python",
   "name": "python3"
  },
  "language_info": {
   "codemirror_mode": {
    "name": "ipython",
    "version": 3
   },
   "file_extension": ".py",
   "mimetype": "text/x-python",
   "name": "python",
   "nbconvert_exporter": "python",
   "pygments_lexer": "ipython3",
   "version": "3.6.5"
  }
 },
 "nbformat": 4,
 "nbformat_minor": 2
}
